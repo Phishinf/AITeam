{
  "nbformat": 4,
  "nbformat_minor": 0,
  "metadata": {
    "colab": {
      "provenance": [],
      "authorship_tag": "ABX9TyMqOzyyYBoQzxFGa+rBTYMH",
      "include_colab_link": true
    },
    "kernelspec": {
      "name": "python3",
      "display_name": "Python 3"
    },
    "language_info": {
      "name": "python"
    }
  },
  "cells": [
    {
      "cell_type": "markdown",
      "metadata": {
        "id": "view-in-github",
        "colab_type": "text"
      },
      "source": [
        "<a href=\"https://colab.research.google.com/github/Phishinf/AITeam/blob/main/WifiTracker.ipynb\" target=\"_parent\"><img src=\"https://colab.research.google.com/assets/colab-badge.svg\" alt=\"Open In Colab\"/></a>"
      ]
    },
    {
      "cell_type": "markdown",
      "source": [
        "# Appendix: The Project is based on a device called wi-fi dongle to estimate the number of mobile device with wi-fi function.\n",
        "\n",
        "## Introduction\n",
        "\n",
        "### In tracking mobile devices, one of the method is through a wi-fi dongle. A Wi-Fi dongle, also known as a Wi-Fi adapter or USB Wi-Fi adapter, is primarily designed to allow a computer to connect to Wi-Fi networks and access the internet wirelessly. It does this by receiving and transmitting Wi-Fi signals between the computer and nearby Wi-Fi access points.\n",
        "\n",
        "### While a Wi-Fi dongle can detect and interact with nearby Wi-Fi devices, it typically does not have the capability to directly record the number of mobile devices around it. The functionality of a Wi-Fi dongle is focused on networking and internet connectivity for the host device (e.g., a computer, laptop, or tablet) rather than monitoring or tracking nearby devices.\n",
        "\n",
        "### To record the number of mobile devices around a specific location, specialized equipment and software are usually required. For example:\n",
        "\n",
        "#### 1.\tWi-Fi Access Points: Wi-Fi routers and access points can log information about devices that connect to them, including the number of connected devices. However, this is limited to devices actively connecting to the specific Wi-Fi network managed by the access point.\n",
        "\n",
        "#### 2.\tWireless Network Monitoring Tools: Dedicated network monitoring tools can provide insights into nearby Wi-Fi networks, devices, and traffic. These tools may offer features to analyze network activity, detect devices, and monitor signal strength, but they typically require specific hardware and software configurations.\n",
        "\n",
        "#### 3.\tLocation-Based Services (LBS): Some systems, such as location-based services used in retail or public spaces, can track the presence of mobile devices using technologies like Wi-Fi, Bluetooth, or RFID. These systems often combine hardware sensors with software platforms to monitor and analyse device presence and movements.\n",
        "\n",
        "### In summary, while a Wi-Fi dongle is essential for wireless internet connectivity on a computer, it is not typically designed to record or track the number of mobile devices around it. However, with specialised software, it is possible to estimate the number of mobile devices around the perimeter.\n",
        "\n",
        "\n",
        "\n",
        "### To monitor and track the number of mobile devices around a specific location using Wi-Fi signals, It needs specialized software tools designed for wireless network monitoring and analysis.\n",
        "\n",
        "### Types of Wireless Network Monitoring Tools:\n",
        "\n",
        "####  1.\tKismet: Kismet is a popular open-source wireless network detector, sniffer, and intrusion detection system. It can detect and track Wi-Fi networks, devices, and their activities.\n",
        "\n",
        "####  2.\tWireshark: While primarily a packet analyser, Wireshark can be used to capture and analyse Wi-Fi traffic, including the presence and activities of nearby devices.\n",
        "\n",
        "#### 3.\tNetSpot: NetSpot is a Wi-Fi analyser and survey tool that can scan and visualize Wi-Fi networks, including nearby devices and their signal strengths.\n",
        "\n",
        "#### 4.\tAcrylic Wi-Fi: Acrylic Wi-Fi is a Wi-Fi analyser and scanning tool that can detect nearby Wi-Fi networks, devices, and signal strengths. It offers features for network troubleshooting and analysis.\n",
        "\n",
        "### These software tools vary in their features, capabilities, and compatibility with different Wi-Fi hardware. Depending on your specific requirements, such as the size of the area to monitor, the level of detail needed, and the types of devices to track. Additionally, some software may require compatible hardware or access to specific Wi-Fi infrastructure for optimal functionality.\n",
        "\n",
        "## PCAP Data\n",
        "\n",
        "### Pcap (packet capture) data is a common and valuable form of collectible data in network analysis through dongle. Pcap files contain recorded network traffic, including packet headers and payloads, captured from a network interface. They are widely used by network administrators, security professionals, researchers, and analysts for various purposes, including:\n",
        "\n",
        "#### Network Troubleshooting: Pcap data allows analysts to examine network traffic to diagnose and troubleshoot network issues such as congestion, packet loss, and latency.\n",
        "\n",
        "#### Security Analysis: Security analysts use pcap data to investigate security incidents, detect intrusions, and analyse malicious activities such as malware infections, phishing attacks, and network reconnaissance.\n",
        "\n",
        "#### Protocol Analysis: Pcap data provides insights into how network protocols are used and can help in protocol debugging, performance optimization, and protocol compliance analysis.\n",
        "\n",
        "#### Forensic Analysis: Pcap data can be used in digital forensics investigations to reconstruct network communications, identify suspicious behaviour, and gather evidence for legal proceedings.\n",
        "\n",
        "#### Traffic Monitoring and Analysis: Pcap data allows for the monitoring and analysis of network traffic patterns, trends, and usage statistics, which can be valuable for capacity planning, network optimization, and policy enforcement.\n",
        "\n",
        "### It is known that tools like Wireshark, tcpdump, and tshark are commonly used to capture, analyse, and manipulate pcap data. Overall, pcap data serves as a fundamental source of information for understanding and analysing network behaviour and is an essential component of network analysis workflows.\n",
        "\n",
        "## Estimation of Number of Mobile Devices Around using Pcap data\n",
        "\n",
        "#### To estimate the number of mobile devices using Wireshark with pcap data using following steps, one can leverage Wireshark's filtering and analysis capabilities,\n",
        "\n",
        "#### Capture Packets: Start Wireshark and capture packets on the network interface where mobile devices are connected.\n",
        "\n",
        "#### Filter Mobile Device Traffic: Apply a display filter to focus on packets originating from or destined to mobile devices. This could include filtering by MAC address, IP address range, or specific protocols commonly used by mobile devices (e.g., HTTP, HTTPS, DNS).\n",
        "\n",
        "#### Analyse Unique Identifiers: Look for unique identifiers such as MAC addresses, IP addresses, or device fingerprints to identify individual mobile devices.\n",
        "\n",
        "#### Track Connections: Monitor connections established by mobile devices to servers or other devices on the network. You can use Wireshark's statistics features to analyse connection statistics and identify unique device connections.\n",
        "\n",
        "#### Aggregate Data: Aggregate the data by counting unique MAC addresses, IP addresses, or device fingerprints to estimate the number of distinct mobile devices observed in the pcap data.\n",
        "\n",
        "#### Consider DHCP Traffic: Analyse DHCP (Dynamic Host Configuration Protocol) traffic to identify IP addresses assigned to mobile devices dynamically. This can help in counting the number of active devices on the network.\n",
        "\n",
        "\n",
        "\n",
        "\n"
      ],
      "metadata": {
        "id": "EVNeNY62V8Cb"
      }
    },
    {
      "cell_type": "markdown",
      "source": [
        "## Program Code to Convert Pcap Data\n",
        "\n",
        "```\n",
        "# This is formatted as code\n",
        "```\n",
        "\n"
      ],
      "metadata": {
        "id": "Mjsyf7Q8XvSP"
      }
    },
    {
      "cell_type": "markdown",
      "source": [
        "### Install libaries\n"
      ],
      "metadata": {
        "id": "IxKIaaDaYLw9"
      }
    },
    {
      "cell_type": "code",
      "source": [
        "!pip install scapy"
      ],
      "metadata": {
        "id": "GFGS-Z3_X5Fp"
      },
      "execution_count": null,
      "outputs": []
    },
    {
      "cell_type": "code",
      "source": [
        "## A simple Python script to read a PCAP file and print out some basic information about the packets:\n",
        "from scapy.all import *\n",
        "\n",
        "def analyze_pcap(pcap_file):\n",
        "    packets = rdpcap(pcap_file)  # Read PCAP file\n",
        "\n",
        "    print(\"Total packets in the PCAP file:\", len(packets))\n",
        "\n",
        "    # Analyze each packet\n",
        "    for packet in packets:\n",
        "        print(\"\\nPacket summary:\")\n",
        "        print(packet.summary())  # Print summary of packet\n",
        "\n",
        "        # You can add more analysis based on your requirements\n",
        "        # For example:\n",
        "        # - Extract source and destination IP addresses\n",
        "        # - Extract protocols used\n",
        "        # - Extract payload and analyze its contents\n",
        "\n",
        "pcap_file = \"your_pcap_file.pcap\"  # Provide path to your PCAP file\n",
        "analyze_pcap(pcap_file)\n"
      ],
      "metadata": {
        "id": "SaYhWiO_XpQb"
      },
      "execution_count": null,
      "outputs": []
    },
    {
      "cell_type": "markdown",
      "source": [
        "### Replace \"your_pcap_file.pcap\" with the path to actual PCAP file. This script will print out the total number of packets in the PCAP file and then print a summary of each packet.\n",
        "\n",
        "### Customize the analyze_pcap function to perform more specific analysis based on your requirements. For example, extract specific fields from each packet and perform more detailed analysis on them.\n",
        "\n",
        "### Remember to have appropriate permissions to read the PCAP file and ensure that the file path is correct. Additionally, keep in mind that working with large PCAP files can consume a significant amount of memory, so it's important to optimize the analysis code accordingly.\n",
        "\n",
        "### To eliminate repeat records while analyzing packets using Scapy, you can maintain a set of unique identifiers for packets you've already processed. Here's how you can modify the script to achieve this:"
      ],
      "metadata": {
        "id": "3QJBVZEoYsi0"
      }
    },
    {
      "cell_type": "code",
      "source": [
        "def analyze_pcap(pcap_file):\n",
        "    packets = rdpcap(pcap_file)  # Read PCAP file\n",
        "\n",
        "    print(\"Total packets in the PCAP file:\", len(packets))\n",
        "\n",
        "    # Set to store unique packet identifiers\n",
        "    unique_packets = set()\n",
        "\n",
        "    # Analyze each packet\n",
        "    for packet in packets:\n",
        "        # Generate a unique identifier for the packet\n",
        "        packet_id = hash(packet)\n",
        "\n",
        "        # Check if the packet is unique\n",
        "        if packet_id not in unique_packets:\n",
        "            print(\"\\nPacket summary:\")\n",
        "            print(packet.summary())  # Print summary of packet\n",
        "\n",
        "            # Add packet identifier to set of unique packets\n",
        "            unique_packets.add(packet_id)\n",
        "\n",
        "            # You can add more analysis based on your requirements\n",
        "            # For example:\n",
        "            # - Extract source and destination IP addresses\n",
        "            # - Extract protocols used\n",
        "            # - Extract payload and analyze its contents\n",
        "\n",
        "pcap_file = \"your_pcap_file.pcap\"  # Provide path to your PCAP file\n",
        "analyze_pcap(pcap_file)\n"
      ],
      "metadata": {
        "id": "9ZBULVTpZBxk"
      },
      "execution_count": null,
      "outputs": []
    },
    {
      "cell_type": "markdown",
      "source": [
        "### In above modified version of the script, before printing the summary of each packet, it checks if the hash of the packet is already in the set of unique packet identifiers (unique_packets). If it's not present, it prints the packet summary, adds the hash to the set of unique packet identifiers, and proceeds to the next packet. This way, only unique packets will be processed and repeated records will be eliminated from the analysis.sed text"
      ],
      "metadata": {
        "id": "UANPA2GBZo3k"
      }
    },
    {
      "cell_type": "markdown",
      "source": [
        "## Extract Mobile Device Informaton from Pcap"
      ],
      "metadata": {
        "id": "2kCaT7mQb9ao"
      }
    },
    {
      "cell_type": "code",
      "source": [
        "from scapy.all import *\n",
        "\n",
        "def is_mobile(packet):\n",
        "    # Check for known mobile device MAC address prefixes\n",
        "    mobile_mac_prefixes = [\"XX:XX:XX\", \"YY:YY:YY\"]  # Add more prefixes as needed\n",
        "\n",
        "    # Check for mobile device MAC address\n",
        "    if packet.haslayer(Ether):\n",
        "        src_mac = packet[Ether].src\n",
        "        if any(src_mac.startswith(prefix) for prefix in mobile_mac_prefixes):\n",
        "            return True\n",
        "\n",
        "    # Check for mobile device IP address\n",
        "    if packet.haslayer(IP):\n",
        "        src_ip = packet[IP].src\n",
        "        # Assuming mobile devices have IP addresses in certain ranges\n",
        "        if src_ip.startswith(\"192.168.1.\") or src_ip.startswith(\"10.0.0.\"):\n",
        "            return True\n",
        "\n",
        "    # Check for User-Agent string in HTTP packets\n",
        "    if packet.haslayer(HTTP):\n",
        "        user_agent = str(packet[HTTP].payload)\n",
        "        if \"Mobile\" in user_agent:\n",
        "            return True\n",
        "\n",
        "    # Add more checks as needed\n",
        "\n",
        "    return False\n",
        "\n",
        "def analyze_pcap(pcap_file):\n",
        "    packets = rdpcap(pcap_file)  # Read PCAP file\n",
        "\n",
        "    print(\"Total packets in the PCAP file:\", len(packets))\n",
        "\n",
        "    # Analyze each packet\n",
        "    for packet in packets:\n",
        "        # Check if packet is from a mobile device\n",
        "        if is_mobile(packet):\n",
        "            print(\"\\nPacket from a mobile device:\")\n",
        "            print(packet.summary())  # Print summary of packet\n",
        "            # Add more analysis specific to mobile devices if needed\n",
        "        else:\n",
        "            # Handle packets not from mobile devices\n",
        "            pass\n",
        "\n",
        "        # You can add more analysis based on your requirements\n",
        "        # For example:\n",
        "        # - Extract source and destination IP addresses\n",
        "        # - Extract protocols used\n",
        "        # - Extract payload and analyze its contents\n",
        "\n",
        "\n",
        "pcap_file = \"your_pcap_file.pcap\"  # Provide path to your PCAP file\n",
        "analyze_pcap(pcap_file)\n"
      ],
      "metadata": {
        "id": "-SixrovvZ9vc"
      },
      "execution_count": null,
      "outputs": []
    },
    {
      "cell_type": "markdown",
      "source": [
        "### To distinguish packets from mobile devices using Scapy, you typically look at characteristics such as the MAC addresses, IP addresses, User-Agent strings, and sometimes specific protocols associated with mobile devices.\n",
        "\n",
        "###Above script defines a function is_mobile() that checks for characteristics typically associated with mobile devices, such as MAC addresses, IP addresses, and User-Agent strings. The analyze_pcap() function then utilizes this function to filter packets and print information about packets originating from mobile devices.\n",
        "\n",
        "### Customize the is_mobile() function further based on the knowledge of the network and the specific characteristics of mobile devices been interested in. Additionally, one can extend the analysis to include more features or characteristics if needed.\n",
        "\n"
      ],
      "metadata": {
        "id": "gwGKiamnajOw"
      }
    },
    {
      "cell_type": "markdown",
      "source": [
        "## Predestrian Analysis\n",
        "\n",
        "#### Analyzing pedestrian behavior, in order to estimation the extent of explsoure of the advertisement in postbox, using PCAP data involves extracting relevant information from network traffic to infer pedestrian movement or activity. This could include tracking Wi-Fi signals from mobile devices, analyzing HTTP requests from mobile apps, or even monitoring Bluetooth signals if applicable.\n",
        "\n",
        "### *A generalized approach to using PCAP data for pedestrian analysis:*\n",
        "\n",
        "##### 1. Collect PCAP Data: Capture network traffic in the area where pedestrian activity is to be analyzed. You can use tools like Wireshark or tcpdump to capture PCAP data\n",
        "\n",
        "##### 2. Extract Relevant Packets: Filter out packets that are likely to be associated with pedestrian devices. This could include Wi-Fi probe requests or Bluetooth advertisements from mobile phones or other wearable devices.\n",
        "\n",
        "##### 3. Identify Pedestrian Devices: Analyze MAC addresses, IP addresses, or other identifiers to distinguish devices likely carried by pedestrians from other network devices.\n",
        "\n",
        "##### 4. Track Movement: Analyze patterns in device activity to infer pedestrian movement. This might involve tracking the appearance of devices in different areas or correlating movement with other events (e.g., HTTP requests for location-based services).\n",
        "\n",
        "##### 5. Behavior Analysis: Once pedestrian devices are identified and tracked, analyze their behavior. This could include dwell times in specific locations, routes taken, frequency of appearance, etc.\n",
        "\n",
        "##### 6. Visualize Results: Present the analysis results visually, such as on a map showing pedestrian paths or in a chart indicating pedestrian activity over time.\n",
        "\n",
        "#### In follwoing a Python script using Scapy to illustrate a basic example of analyzing Wi-Fi probe requests for pedestrian analysis:"
      ],
      "metadata": {
        "id": "FPXunm5i22CF"
      }
    },
    {
      "cell_type": "code",
      "source": [
        "from scapy.all import *\n",
        "\n",
        "def analyze_pcap_for_pedestrians(pcap_file):\n",
        "    packets = rdpcap(pcap_file)  # Read PCAP file\n",
        "\n",
        "    # Set to store unique MAC addresses (pedestrian devices)\n",
        "    pedestrian_devices = set()\n",
        "\n",
        "    # Analyze each packet\n",
        "    for packet in packets:\n",
        "        # Check if the packet is a Wi-Fi probe request\n",
        "        if packet.haslayer(Dot11ProbeReq):\n",
        "            # Extract MAC address of the device\n",
        "            mac_address = packet.addr2\n",
        "            # Add the MAC address to the set of pedestrian devices\n",
        "            pedestrian_devices.add(mac_address)\n",
        "\n",
        "    # Print the identified pedestrian devices\n",
        "    print(\"Pedestrian devices identified:\")\n",
        "    for device in pedestrian_devices:\n",
        "        print(device)\n",
        "\n",
        "if __name__ == \"__main__\":\n",
        "    pcap_file = \"your_pcap_file.pcap\"  # Provide path to your PCAP file\n",
        "    analyze_pcap_for_pedestrians(pcap_file)\n"
      ],
      "metadata": {
        "id": "tJaMNLSD3la2"
      },
      "execution_count": null,
      "outputs": []
    },
    {
      "cell_type": "markdown",
      "source": [
        "## Some Stanedalone Device Capture Pcap date Transform to TXT File\n",
        "\n",
        "#### PCAP (Packet Capture) data is typically captured by network monitoring tools such as Wireshark, tcpdump, or various other network sniffers. These tools allow users to capture network traffic on a specific network interface. The captured data includes information about each packet transmitted over the network, including source and destination MAC addresses, IP addresses, port numbers, packet contents, timestamps, and more.\n",
        "\n",
        "#### Once captured, PCAP data can be converted to a human-readable format, such as a text file, for further analysis or processing. The format of each observation consists of:\n",
        "\n",
        "#### - Source MAC Address\n",
        "#### - Destination MAC Address\n",
        "#### - Field 3\n",
        "#### - Field 4\n",
        "#### - Field 5\n",
        "#### - Signal Strength (assumed to be in dBm)\n",
        "#### - Timestamp\n",
        "\n",
        "#### Python has libraries like scapy that can handle PCAP files efficiently. After parsing the PCAP data, you can extract relevant information from each packet and format it as you desire, such as the format you provided."
      ],
      "metadata": {
        "id": "1Xu_kWKfmdH0"
      }
    },
    {
      "cell_type": "code",
      "source": [
        "# CONVERT THE PCAP TO TXT FOR ANALYSIS\n",
        "\n",
        "from scapy.all import *\n",
        "\n",
        "def pcap_to_txt(pcap_file):\n",
        "    observations = []\n",
        "    packets = rdpcap(pcap_file)  # Read the pcap file\n",
        "\n",
        "    for packet in packets:\n",
        "        if packet.haslayer(Dot11):  # Assuming Wi-Fi traffic\n",
        "            src_mac = packet.addr2\n",
        "            dst_mac = packet.addr1\n",
        "            signal_strength = packet.dBm_AntSignal  # Signal strength in dBm\n",
        "            timestamp = packet.time.strftime(\"%Y-%m-%d %H:%M:%S\")  # Timestamp\n",
        "            observation = f\"{src_mac}|{dst_mac}|00|05|09|{signal_strength}|{timestamp}\"\n",
        "            observations.append(observation)\n",
        "\n",
        "    with open(\"output.txt\", \"w\") as f:\n",
        "        for obs in observations:\n",
        "            f.write(obs + \"\\n\")\n",
        "\n",
        "# Usage example\n",
        "pcap_to_txt(\"input.pcap\")\n"
      ],
      "metadata": {
        "id": "daFgUu3db0Gm"
      },
      "execution_count": null,
      "outputs": []
    },
    {
      "cell_type": "markdown",
      "source": [
        "## Python to Convert TxT to Varaiables for Analysis                                                                                        \n",
        "#### Use the following Python code to extract the relevant information from each observation in the text file while ignoring fields 3, 4, and 5, and parsing the timestamp to extract the year, month, date, weekday, and hour\n"
      ],
      "metadata": {
        "id": "A9IpeeeTq0Hv"
      }
    },
    {
      "cell_type": "code",
      "source": [],
      "metadata": {
        "id": "YEqs6eoIvC7n"
      },
      "execution_count": null,
      "outputs": []
    },
    {
      "cell_type": "code",
      "source": [
        "from datetime import datetime\n",
        "\n",
        "def parse_observation(observation):\n",
        "    fields = observation.split(\"|\")\n",
        "    src_mac = fields[0]\n",
        "    dst_mac = fields[1]\n",
        "    # free feel to add channel variable, likely the fields[5]\n",
        "    signal_strength = int(fields[6])\n",
        "    timestamp = datetime.strptime(fields[7].strip(), \"%Y-%m-%d %H:%M:%S\")\n",
        "    year = timestamp.year\n",
        "    month = timestamp.month\n",
        "    date = timestamp.day\n",
        "    weekday = timestamp.strftime(\"%A\")\n",
        "    hour = timestamp.hour\n",
        "    return (src_mac, dst_mac, signal_strength, year, month, date, weekday, hour)\n",
        "\n",
        "# Read observations from the file\n",
        "observations = []\n",
        "with open(\"your_file.txt\", \"r\") as file:\n",
        "    for line in file:\n",
        "        observations.append(line)\n",
        "\n",
        "# Extract information from each observation\n",
        "for observation in observations:\n",
        "    info = parse_observation(observation)\n",
        "    print(\"Source MAC Address:\", info[0])\n",
        "    print(\"Destination MAC Address:\", info[1])\n",
        "    print(\"Signal Strength:\", info[2])\n",
        "    print(\"Year:\", info[3])\n",
        "    print(\"Month:\", info[4])\n",
        "    print(\"Date:\", info[5])\n",
        "    print(\"Weekday:\", info[6])\n",
        "    print(\"Hour:\", info[7])\n",
        "\n",
        "\n"
      ],
      "metadata": {
        "id": "4u597iEOrx6m"
      },
      "execution_count": null,
      "outputs": []
    },
    {
      "cell_type": "markdown",
      "source": [],
      "metadata": {
        "id": "5OoOrJ5LvFPr"
      }
    },
    {
      "cell_type": "markdown",
      "source": [
        "#### The following code will read the observations from the text file specified, aggregate the number of distinct source MAC addresses for each hour, and store the result in a DataFrame, use Python with the pandas library.  Make sure to replace \"observations.txt\" with the path to the actual text file."
      ],
      "metadata": {
        "id": "yjPuyVM2ur1R"
      }
    },
    {
      "cell_type": "code",
      "source": [
        "import pandas as pd\n",
        "from datetime import datetime\n",
        "\n",
        "# Read the text file into a pandas DataFrame\n",
        "df = pd.read_csv(\"your_file.txt\", sep=\"|\", header=None)\n",
        "df.columns = [\"Source_MAC\", \"Destination_MAC\", \"Field_3\", \"Field_4\", \"Field_5\", \"Signal_Strength\", \"Timestamp\"]\n",
        "\n",
        "# Convert the Timestamp column to datetime objects\n",
        "df[\"Timestamp\"] = pd.to_datetime(df[\"Timestamp\"])\n",
        "\n",
        "# Group by hour and count the number of distinct source MAC addresses\n",
        "df[\"Hour\"] = df[\"Timestamp\"].dt.hour\n",
        "hourly_mac_counts = df.groupby([\"Hour\"])[\"Source_MAC\"].nunique().reset_index()\n",
        "\n",
        "# Save the result to a new DataFrame file\n",
        "hourly_mac_counts.to_csv(\"hourly_mac_counts.csv\", index=False)\n"
      ],
      "metadata": {
        "id": "pYNU9kfPvG-e"
      },
      "execution_count": null,
      "outputs": []
    },
    {
      "cell_type": "markdown",
      "source": [
        "## Regression Model\n",
        "\n",
        "#### Dependent Variable = hourly_mac_counts\n",
        "\n",
        "#### Indpendent Variables include:\n",
        "\n",
        "##### - Month (March, ...)\n",
        "##### - Weekday (Monday, ..., Sunday)\n",
        "##### - District (18 District Name)\n",
        "##### - Type of Region (Resident, Commerce, Industry)\n",
        "##### - Nearby_Resturant (Number of Resturants)\n",
        "##### - School (Yes or No)\n",
        "##### - Publc_Services (Yes or No)\n",
        "##### - Mall (Yes or No)\n",
        "##### - Bus_Stops (Yes or No)\n",
        "##### - MITStation (Yes or No)\n",
        "\n",
        "#### Creates sample data for the independent variables and then combines them with the hourly_mac_counts DataFrame. Finally, it saves the combined DataFrame to a CSV file called \"combined_data.csv\".\n",
        "\n",
        "#### Replace the sample data in the data dictionary with your actual data for each independent variable. Run following code, one will have a DataFrame containing both the dependent variable hourly_mac_counts and the independent variables."
      ],
      "metadata": {
        "id": "Hw-JuvILvSO8"
      }
    },
    {
      "cell_type": "code",
      "source": [
        "import pandas as pd\n",
        "from datetime import datetime\n",
        "\n",
        "# Assuming you have already loaded and processed the hourly_mac_counts DataFrame\n",
        "\n",
        "# Create sample data for independent variables\n",
        "data = {\n",
        "    \"Month\": [\"March\", \"March\", \"March\", \"March\", \"March\"],\n",
        "    \"Weekday\": [\"Monday\", \"Tuesday\", \"Wednesday\", \"Thursday\", \"Friday\"],\n",
        "    \"District\": [\"District A\", \"District B\", \"District C\", \"District D\", \"District E\"],\n",
        "    \"Type_of_Region\": [\"Residential\", \"Commerce\", \"Industry\", \"Residential\", \"Commerce\"],\n",
        "    \"Nearby_Restaurant\": [10, 5, 3, 8, 6],\n",
        "    \"School\": [\"Yes\", \"No\", \"Yes\", \"No\", \"Yes\"],\n",
        "    \"Public_Services\": [\"Yes\", \"Yes\", \"No\", \"Yes\", \"Yes\"],\n",
        "    \"Mall\": [\"No\", \"Yes\", \"No\", \"No\", \"Yes\"],\n",
        "    \"Bus_Stops\": [\"Yes\", \"No\", \"Yes\", \"Yes\", \"No\"],\n",
        "    \"MIT_Station\": [\"Yes\", \"No\", \"Yes\", \"Yes\", \"No\"]\n",
        "}\n",
        "\n",
        "# Create DataFrame for independent variables\n",
        "independent_df = pd.DataFrame(data)\n",
        "\n",
        "# Combine independent variables DataFrame with hourly_mac_counts DataFrame\n",
        "combined_df = pd.concat([hourly_mac_counts, independent_df], axis=1)\n",
        "\n",
        "# Save the combined DataFrame to a CSV file\n",
        "combined_df.to_csv(\"combined_data.csv\", index=False)\n",
        "\n"
      ],
      "metadata": {
        "id": "dJRXGWTAyw4u"
      },
      "execution_count": null,
      "outputs": []
    },
    {
      "cell_type": "markdown",
      "source": [
        "## Time Series and Sesaonal Features in Addition to Cross-sectional Analysis\n",
        "\n",
        "#### Considering seasonal patterns and time series aspects in pedestrian analysis can provide valuable insights into pedestrian behavior, such as understanding how pedestrian activity varies over different times of the day, days of the week, or across seasons. Here's how you can incorporate seasonal patterns and time series considerations into pedestrian analysis:\n",
        "\n",
        "##### 1. Data Collection: Collect pedestrian data over an extended period, capturing timestamps in pcap data along with pedestrian activity.\n",
        "\n",
        "##### 2. Data Preprocessing: Preprocess the collected data, ensuring consistency in timestamps and handling missing or erroneous data points.\n",
        "\n",
        "#### *Time Series Analysis:*\n",
        "\n",
        "Seasonal Decomposition: Decompose the time series data into its seasonal, trend, and residual components using methods like seasonal decomposition of time series (STL) or classical decomposition techniques.\n",
        "\n",
        "Seasonal Index Calculation: Calculate seasonal indices to quantify the magnitude of seasonal fluctuations in pedestrian activity. This allows you to compare activity levels across different seasons.\n",
        "\n",
        "Time Series Visualization: Visualize the time series data to identify patterns, trends, and seasonal variations. This could include plotting pedestrian counts over time, creating heatmaps of activity levels by hour or day, or using other visualization techniques to highlight seasonal patterns.\n",
        "Statistical Analysis:\n",
        "\n",
        "Seasonal Analysis: Conduct statistical tests to determine if there are significant differences in pedestrian activity across seasons.\n",
        "Time Series Forecasting: Use time series forecasting methods to predict future pedestrian activity based on historical patterns. This can help in resource allocation and planning for pedestrian infrastructure.\n",
        "\n",
        "#### *Feature Engineering:*\n",
        "\n",
        "Temporal Features: Engineer features such as time of day, day of the week, month, or season to capture temporal patterns in pedestrian behavior.\n",
        "Holiday and Event Indicators: Incorporate indicators for holidays, special events, or weather conditions that may influence pedestrian activity.\n",
        "Machine Learning Models:\n",
        "\n",
        "Seasonal Regression Models: Build regression models that incorporate seasonal predictors to estimate pedestrian counts.\n",
        "\n",
        "Time Series Forecasting Models: Train time series forecasting models such as ARIMA, SARIMA, or LSTM networks to predict pedestrian activity based on historical data.\n",
        "\n",
        "Anomaly Detection: Develop anomaly detection models to identify unusual spikes or dips in pedestrian activity that deviate from expected seasonal patterns.\n",
        "Evaluation and Interpretation:\n",
        "\n",
        "Evaluate the performance of your models using metrics such as mean absolute error (MAE), root mean squared error (RMSE), or accuracy.\n",
        "Interpret the results of your analysis to derive actionable insights for urban planning, transportation management, or pedestrian safety initiatives.\n",
        "By incorporating seasonal patterns and time series considerations into your pedestrian analysis, you can gain a deeper understanding of pedestrian behavior and make more informed decisions to optimize pedestrian infrastructure and enhance urban livability."
      ],
      "metadata": {
        "id": "btsP8Bbg3zin"
      }
    }
  ]
}